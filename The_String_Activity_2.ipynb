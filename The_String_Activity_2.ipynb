{
  "nbformat": 4,
  "nbformat_minor": 0,
  "metadata": {
    "colab": {
      "provenance": [],
      "authorship_tag": "ABX9TyNc3UD9Yminu13NhzR4CG3z",
      "include_colab_link": true
    },
    "kernelspec": {
      "name": "python3",
      "display_name": "Python 3"
    },
    "language_info": {
      "name": "python"
    }
  },
  "cells": [
    {
      "cell_type": "markdown",
      "metadata": {
        "id": "view-in-github",
        "colab_type": "text"
      },
      "source": [
        "<a href=\"https://colab.research.google.com/github/yizhouzheng0358/Assignment1/blob/main/The_String_Activity_2.ipynb\" target=\"_parent\"><img src=\"https://colab.research.google.com/assets/colab-badge.svg\" alt=\"Open In Colab\"/></a>"
      ]
    },
    {
      "cell_type": "code",
      "execution_count": null,
      "metadata": {
        "id": "y043QZvADYTu"
      },
      "outputs": [],
      "source": [
        "s1='Alice is cute'\n",
        "s2='Bob is also cute'\n",
        "# version #1\n",
        "for index in range(len(s1)):\n",
        "  if (s1[index] in s2) and (s1[index] != ' '):\n",
        "    print(s1[index])\n",
        "\n",
        "# version #2\n",
        "for char in s1:\n",
        "  if char in s2:\n",
        "    print(char)"
      ]
    }
  ]
}