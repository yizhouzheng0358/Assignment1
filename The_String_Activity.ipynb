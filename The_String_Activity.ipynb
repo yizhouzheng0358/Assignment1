{
  "nbformat": 4,
  "nbformat_minor": 0,
  "metadata": {
    "colab": {
      "provenance": [],
      "authorship_tag": "ABX9TyPXCMQLgDws/wrlReO8pF/q",
      "include_colab_link": true
    },
    "kernelspec": {
      "name": "python3",
      "display_name": "Python 3"
    },
    "language_info": {
      "name": "python"
    }
  },
  "cells": [
    {
      "cell_type": "markdown",
      "metadata": {
        "id": "view-in-github",
        "colab_type": "text"
      },
      "source": [
        "<a href=\"https://colab.research.google.com/github/yizhouzheng0358/Assignment1/blob/main/The_String_Activity.ipynb\" target=\"_parent\"><img src=\"https://colab.research.google.com/assets/colab-badge.svg\" alt=\"Open In Colab\"/></a>"
      ]
    },
    {
      "cell_type": "code",
      "execution_count": 4,
      "metadata": {
        "colab": {
          "base_uri": "https://localhost:8080/"
        },
        "id": "XdeCEbOww34n",
        "outputId": "66387fc9-d2b3-4019-bb7a-449ae3ccb0bb"
      },
      "outputs": [
        {
          "output_type": "stream",
          "name": "stdout",
          "text": [
            "Please enter the date in the format of MM/DD/YYYY: 08/08/2008\n",
            "Month: 08 Day: 08 Year: 2008\n"
          ]
        }
      ],
      "source": [
        "# Write a program that takes as input from the keyboard as a string that corresponds to a date (e.g., 02/20/2024) in the format: MM/DD/YYY\n",
        "Date=str(input(\"Please enter the date in the format of MM/DD/YYYY: \"))\n",
        "Month=Date[0:2]\n",
        "Day=Date[3:5]\n",
        "Year=Date[6:10]\n",
        "print(\"Month:\",Month, \"Day:\",Day,\"Year:\",Year)\n",
        "# or print(f'Month:{Month},Day:{Day},Year:{Year}')"
      ]
    }
  ]
}