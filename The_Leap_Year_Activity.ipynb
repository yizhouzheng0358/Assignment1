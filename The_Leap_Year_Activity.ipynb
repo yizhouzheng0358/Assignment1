{
  "nbformat": 4,
  "nbformat_minor": 0,
  "metadata": {
    "colab": {
      "provenance": [],
      "authorship_tag": "ABX9TyMmvkE2pc5tTPMU7l+othC+",
      "include_colab_link": true
    },
    "kernelspec": {
      "name": "python3",
      "display_name": "Python 3"
    },
    "language_info": {
      "name": "python"
    }
  },
  "cells": [
    {
      "cell_type": "markdown",
      "metadata": {
        "id": "view-in-github",
        "colab_type": "text"
      },
      "source": [
        "<a href=\"https://colab.research.google.com/github/yizhouzheng0358/Assignment1/blob/main/The_Leap_Year_Activity.ipynb\" target=\"_parent\"><img src=\"https://colab.research.google.com/assets/colab-badge.svg\" alt=\"Open In Colab\"/></a>"
      ]
    },
    {
      "cell_type": "code",
      "execution_count": 3,
      "metadata": {
        "colab": {
          "base_uri": "https://localhost:8080/"
        },
        "id": "7wc1w6UV3J32",
        "outputId": "05a85ad9-b0e9-49ad-d274-a25b30338355"
      },
      "outputs": [
        {
          "output_type": "stream",
          "name": "stdout",
          "text": [
            "Please enter the year:1885\n",
            "1885 is not a leap year.\n"
          ]
        }
      ],
      "source": [
        "year=int(input('Please enter the year:'))\n",
        "if (year%4==0 and year%100!=0) or (year%400==0):\n",
        "  print(f\"{year} is a leap year.\")\n",
        "else:\n",
        "  print(f\"{year} is not a leap year.\")"
      ]
    }
  ]
}