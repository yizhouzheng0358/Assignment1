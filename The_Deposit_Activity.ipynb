{
  "nbformat": 4,
  "nbformat_minor": 0,
  "metadata": {
    "colab": {
      "provenance": [],
      "authorship_tag": "ABX9TyO0qrS6LTwuN6b879rRVJ/X",
      "include_colab_link": true
    },
    "kernelspec": {
      "name": "python3",
      "display_name": "Python 3"
    },
    "language_info": {
      "name": "python"
    }
  },
  "cells": [
    {
      "cell_type": "markdown",
      "metadata": {
        "id": "view-in-github",
        "colab_type": "text"
      },
      "source": [
        "<a href=\"https://colab.research.google.com/github/yizhouzheng0358/Assignment1/blob/main/The_Deposit_Activity.ipynb\" target=\"_parent\"><img src=\"https://colab.research.google.com/assets/colab-badge.svg\" alt=\"Open In Colab\"/></a>"
      ]
    },
    {
      "cell_type": "code",
      "execution_count": null,
      "metadata": {
        "id": "Qx0CxzmK6r4I"
      },
      "outputs": [],
      "source": [
        "#By using the elif function & Considering adding the new/old customers & rounding the total amount:\n",
        "\n",
        "Customer_Type = str(input('Enter the customer type: (n: new customer, e: existing customer)'))\n",
        "Deposit = float(input(\"Enter the amount of deposit: $\"))\n",
        "\n",
        "if Customer_Type == 'e':\n",
        "  if Deposit > 10000:\n",
        "    interest_rate = 3.5\n",
        "  elif Deposit <= 1000:\n",
        "    interest_rate = 3.0\n",
        "  else:\n",
        "    interest_rate = 3.25\n",
        "else:\n",
        "  interest_rate = 3.0\n",
        "\n",
        "Total = Deposit * (1+interest_rate/100)\n",
        "print('The total amount with interest will be: $',round(Total,2))"
      ]
    }
  ]
}