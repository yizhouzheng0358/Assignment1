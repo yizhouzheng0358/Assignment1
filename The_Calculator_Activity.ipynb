{
  "nbformat": 4,
  "nbformat_minor": 0,
  "metadata": {
    "colab": {
      "provenance": [],
      "authorship_tag": "ABX9TyOa3pphd4VWJIL7MEiHpHrE",
      "include_colab_link": true
    },
    "kernelspec": {
      "name": "python3",
      "display_name": "Python 3"
    },
    "language_info": {
      "name": "python"
    }
  },
  "cells": [
    {
      "cell_type": "markdown",
      "metadata": {
        "id": "view-in-github",
        "colab_type": "text"
      },
      "source": [
        "<a href=\"https://colab.research.google.com/github/yizhouzheng0358/Assignment1/blob/main/The_Calculator_Activity.ipynb\" target=\"_parent\"><img src=\"https://colab.research.google.com/assets/colab-badge.svg\" alt=\"Open In Colab\"/></a>"
      ]
    },
    {
      "cell_type": "code",
      "execution_count": null,
      "metadata": {
        "id": "bl-Yaq2f7x9A"
      },
      "outputs": [],
      "source": [
        "# In-Class Activity - Calculator Problem\n",
        "# numerical operators: +,-,*,/,int div //, rasing to the power **, remainder %\n",
        "# asking the user for 3 inputs: 2 numbers 1 operator... asking for new inputs again... break stops the loop\n",
        "# use while for infinite loops\n",
        "\n",
        "while True:\n",
        "  operator=str(input('Enter the operator among ''+,-,*,**,/,//,%'':'))\n",
        "  num1=float(input('Enter the first number:'))\n",
        "  num2=float(input('Enter the second number:'))\n",
        "\n",
        "  if operator == 'break':\n",
        "    break\n",
        "\n",
        "  if operator == '+':\n",
        "    function = num1 + num2\n",
        "  elif operator == '-':\n",
        "    function = num1 - num2\n",
        "  elif operator == '*':\n",
        "    function = num1 * num2\n",
        "  elif operator == '**':\n",
        "    function = num1 ** num2\n",
        "  elif operator == '/':\n",
        "    function = num1 / num2\n",
        "  elif operator == '//':\n",
        "    function = num1 // num2\n",
        "  elif operator == '%':\n",
        "    function = num1 % num2\n",
        "  else:\n",
        "    print('Not valid entry!')\n",
        "    continue\n",
        "\n",
        "  print('The answer is:',(function))"
      ]
    }
  ]
}