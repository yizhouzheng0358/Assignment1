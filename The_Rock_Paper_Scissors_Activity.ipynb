{
  "nbformat": 4,
  "nbformat_minor": 0,
  "metadata": {
    "colab": {
      "provenance": [],
      "authorship_tag": "ABX9TyPTgqVaWcCUz+T/jVyaxJhO",
      "include_colab_link": true
    },
    "kernelspec": {
      "name": "python3",
      "display_name": "Python 3"
    },
    "language_info": {
      "name": "python"
    }
  },
  "cells": [
    {
      "cell_type": "markdown",
      "metadata": {
        "id": "view-in-github",
        "colab_type": "text"
      },
      "source": [
        "<a href=\"https://colab.research.google.com/github/yizhouzheng0358/Assignment1/blob/main/The_Rock_Paper_Scissors_Activity.ipynb\" target=\"_parent\"><img src=\"https://colab.research.google.com/assets/colab-badge.svg\" alt=\"Open In Colab\"/></a>"
      ]
    },
    {
      "cell_type": "code",
      "execution_count": null,
      "metadata": {
        "colab": {
          "base_uri": "https://localhost:8080/"
        },
        "id": "lbihpnY6zszy",
        "outputId": "49f125e7-5340-4ba4-e370-20749b3edaff"
      },
      "outputs": [
        {
          "output_type": "stream",
          "name": "stdout",
          "text": [
            "Please enter your choice:paper\n",
            "Computer's choice: scissors\n",
            "The computer wins!\n"
          ]
        }
      ],
      "source": [
        "import random\n",
        "user=input('Please enter your choice:')\n",
        "computer=random.choice(['rock','paper','scissors'])\n",
        "\n",
        "print(\"Computer's choice:\",computer)\n",
        "\n",
        "if user == computer:\n",
        "  print(\"It's a tie!\")\n",
        "elif user=='paper' and computer=='rock':\n",
        "  print('You win!')\n",
        "elif user=='rock' and computer=='scissors':\n",
        "  print('You win!')\n",
        "elif user=='scissors' and computer=='paper':\n",
        "  print('You win!')\n",
        "else:\n",
        "  print('The computer wins!')\n"
      ]
    }
  ]
}