{
  "nbformat": 4,
  "nbformat_minor": 0,
  "metadata": {
    "colab": {
      "provenance": [],
      "authorship_tag": "ABX9TyOavviHUkQ3X39yOWwwpF3g",
      "include_colab_link": true
    },
    "kernelspec": {
      "name": "python3",
      "display_name": "Python 3"
    },
    "language_info": {
      "name": "python"
    }
  },
  "cells": [
    {
      "cell_type": "markdown",
      "metadata": {
        "id": "view-in-github",
        "colab_type": "text"
      },
      "source": [
        "<a href=\"https://colab.research.google.com/github/yizhouzheng0358/Assignment1/blob/main/The_Garage_Activity.ipynb\" target=\"_parent\"><img src=\"https://colab.research.google.com/assets/colab-badge.svg\" alt=\"Open In Colab\"/></a>"
      ]
    },
    {
      "cell_type": "code",
      "execution_count": null,
      "metadata": {
        "id": "Ypbrr6bE3_eh"
      },
      "outputs": [],
      "source": [
        "# In Class Activity - Parking Gerage - Initial Problem\n",
        "for i in range(1,9):\n",
        "  fee=5+2.5*i\n",
        "  print(i,fee)"
      ]
    },
    {
      "cell_type": "code",
      "source": [
        "# Using the fuction\n",
        "def getParkingHours():\n",
        "  hours = float(input('Enter the number of hours parked:'))\n",
        "  return hours\n",
        "\n",
        "def calcParkingFee(f):\n",
        "  fee = 2.5*f\n",
        "  if fee < 6:\n",
        "    fee = 6.00\n",
        "  elif fee > 20:\n",
        "    fee = 20.00\n",
        "  else:\n",
        "    fee = fee\n",
        "  return fee\n",
        "# if hours * 2.5 < 6:\n",
        "#    return 6\n",
        "print(f'The parking fee is: ${calcParkingFee(getParkingHours())}')"
      ],
      "metadata": {
        "id": "Y4M-0IBmRBH1"
      },
      "execution_count": null,
      "outputs": []
    }
  ]
}