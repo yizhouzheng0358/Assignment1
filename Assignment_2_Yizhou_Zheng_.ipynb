{
  "nbformat": 4,
  "nbformat_minor": 0,
  "metadata": {
    "colab": {
      "provenance": [],
      "include_colab_link": true
    },
    "kernelspec": {
      "name": "python3",
      "display_name": "Python 3"
    },
    "language_info": {
      "name": "python"
    }
  },
  "cells": [
    {
      "cell_type": "markdown",
      "metadata": {
        "id": "view-in-github",
        "colab_type": "text"
      },
      "source": [
        "<a href=\"https://colab.research.google.com/github/yizhouzheng0358/Assignment1/blob/main/Assignment_2_Yizhou_Zheng_.ipynb\" target=\"_parent\"><img src=\"https://colab.research.google.com/assets/colab-badge.svg\" alt=\"Open In Colab\"/></a>"
      ]
    },
    {
      "cell_type": "markdown",
      "source": [
        "# Problem Set 2"
      ],
      "metadata": {
        "id": "mqKVIuY-mxNU"
      }
    },
    {
      "cell_type": "markdown",
      "source": [
        "## Assignment 1: Quality Control (7 points)\n",
        "\n",
        "A quality control manager would like to find the average weight of a list of weights. Prior experience indicates that the first two measures are atypical, and the practice is to exclude these from the average calculation.\n",
        "\n",
        "Write a program that calculates the average of a list of numbers that given as inputs from the user, excluding the first three values.\n",
        "\n",
        "For your program, you must define and use the following functions:\n",
        "- `getValues(n)`: Prompt the user for `n` values, returns the list\n",
        "- `calcAverage(alist)`: Calculates the average from the list"
      ],
      "metadata": {
        "id": "-RSYW1jVm08n"
      }
    },
    {
      "cell_type": "code",
      "execution_count": null,
      "metadata": {
        "id": "AqbgJkgNmvQw"
      },
      "outputs": [],
      "source": [
        "def getvalue(n):\n",
        "  L=[]\n",
        "  for i in range(n):\n",
        "    weight = float(input('Enter the weight:'))\n",
        "    L.append(weight)\n",
        "  return L[2:]\n",
        "\n",
        "def calcAverage(alist):\n",
        "  avg = sum(alist)/len(alist)\n",
        "  return avg\n",
        "\n",
        "n = int(input('How many weights do you want to enter?'))\n",
        "result = getvalue(n)\n",
        "\n",
        "average = calcAverage(result)\n",
        "print(f'Average weight: {average}')\n"
      ]
    },
    {
      "cell_type": "markdown",
      "source": [
        "## Assignment 2: Country Statistics Lookup-Multiple Measures (6 points)\n",
        "\n",
        "Assume a program begins with the statement:\n",
        "\n",
        "```python\n",
        "allData = { # dictionary of values for countries\n",
        "    'US': {'pop':325.7, 'gdp': 19.39, 'ccy': 'USD', 'fx':  1.0},\n",
        "    'CA': {'pop': 36.5, 'gdp':  1.65, 'ccy': 'CAD', 'fx':  1.35},\n",
        "    'MX': {'pop':129.2, 'gdp':  1.15, 'ccy': 'MXN', 'fx': 19.68}\n",
        "    }\n",
        "```\n",
        "\n",
        "Write subsequent statements that (in a loop) prompt the user for a country code (`US`, `CA`, or `MX`), then prompt for a measure name (`pop`, `gdp`, `ccy`, or `fx`), then look up in the above dictionary for the corresponding value, and display it.\n",
        "\n",
        "Example run:\n",
        "```\n",
        "Please enter a country code: CA\n",
        "Please enter a statistic: pop\n",
        "CA pop = 36.5\n",
        "```\n",
        "\n",
        "Your program should handle the cases where a user-entered country code or measure name is not found."
      ],
      "metadata": {
        "id": "QFO0Kzx8ncnv"
      }
    },
    {
      "cell_type": "code",
      "source": [
        "allData = {'US': {'pop':325.7, 'gdp': 19.39, 'ccy': 'USD', 'fx':  1.0},\n",
        "    'CA': {'pop': 36.5, 'gdp':  1.65, 'ccy': 'CAD', 'fx':  1.35},\n",
        "    'MX': {'pop':129.2, 'gdp':  1.15, 'ccy': 'MXN', 'fx': 19.68}}\n",
        "\n",
        "while True:\n",
        "  country_code = input('Please enter the country code:')\n",
        "\n",
        "  if country_code == 'exit':\n",
        "    break\n",
        "\n",
        "  statistic = input('Please enter the statistic:')\n",
        "  shortData = allData[country_code]\n",
        "\n",
        "  if country_code not in allData.keys():\n",
        "    print(f'Wrong country code entered: {country_code}')\n",
        "    continue\n",
        "  elif statistic not in allData[country_code].keys():\n",
        "    print(f'Wrong statistic code entered:{statistic}')\n",
        "\n",
        "  print(country_code, statistic, '=', shortData[statistic])\n"
      ],
      "metadata": {
        "id": "NZFjRINKowEW",
        "colab": {
          "base_uri": "https://localhost:8080/"
        },
        "outputId": "7abd4fa1-2551-46a6-bc6b-21aec33bba82"
      },
      "execution_count": 2,
      "outputs": [
        {
          "name": "stdout",
          "output_type": "stream",
          "text": [
            "Please enter the country code:US\n",
            "Please enter the statistic:pop\n",
            "US pop = 325.7\n",
            "Please enter the country code:exit\n"
          ]
        }
      ]
    },
    {
      "cell_type": "markdown",
      "source": [
        "## Assignment 3: Parking Garage (6 points)\n",
        "\n",
        "Write a program to compute the fee for parking in a garage for a number of hours.\n",
        "\n",
        "The program should:\n",
        "- Prompt the user for how many hours parked\n",
        "- Calculate the fee based on the following rules:\n",
        "  - $2.50/hour\n",
        "\n",
        "  - minimum fee is $6.00\n",
        "\n",
        "  - maximum fee is $20.00\n",
        "- Print the result\n",
        "\n",
        "For your program, define and use the following two functions:\n",
        "```python\n",
        "# use input() to prompt for the # of hours parked, return this value\n",
        "def getParkingHours()\n",
        "\n",
        "# takes as input hours (a number), returns the parking fee\n",
        "def calcParkingFee()\n",
        "```"
      ],
      "metadata": {
        "id": "GjaUFrnfpKFf"
      }
    },
    {
      "cell_type": "code",
      "source": [
        "def getParkingHours():\n",
        "  hours = float(input('Enter the number of hours parked:'))\n",
        "  return hours\n",
        "\n",
        "def calcParkingFee(f):\n",
        "  fee = 2.5*f\n",
        "  if fee < 6:\n",
        "    fee = 6.00\n",
        "  elif fee > 20:\n",
        "    fee = 20.00\n",
        "  else:\n",
        "    fee = fee\n",
        "  return fee\n",
        "\n",
        "print(f'The parking fee is: ${calcParkingFee(getParkingHours())}')"
      ],
      "metadata": {
        "id": "5ha4O3V5pwNN"
      },
      "execution_count": null,
      "outputs": []
    },
    {
      "cell_type": "markdown",
      "source": [
        "## Assignment 4: Tuition (6 points)\n",
        "\n",
        "A college charges tuition according to the following:\n",
        "- 12 or more credits: $20,000/semester\n",
        "\n",
        "- 1-11 credits: $1,200 + $1,700 per credit\n",
        "\n",
        "Write a program that prompts the user for a number of credits and determines and displays the tuition for the semester. As part of your program, define and use the following function:\n",
        "```python\n",
        "def calcTuition(credits)\n",
        "```\n",
        "The function returns the tuition for a given number of credits"
      ],
      "metadata": {
        "id": "gipBObe5qm-2"
      }
    },
    {
      "cell_type": "code",
      "source": [
        "def calcTuition(c):\n",
        "  fee = 20000\n",
        "  if credits >= 12:\n",
        "    fee = 20000\n",
        "  elif 1 <= credits <= 11:\n",
        "    fee = credits*(1700)+1200\n",
        "  else:\n",
        "    print('Wrong credits entered.')\n",
        "  return fee\n",
        "\n",
        "credits = int(input('Enter the number of credits:'))\n",
        "print(f'The tuition is:${calcTuition(credits)}')\n"
      ],
      "metadata": {
        "id": "BPcn9ywzrL8y"
      },
      "execution_count": null,
      "outputs": []
    }
  ]
}