{
  "nbformat": 4,
  "nbformat_minor": 0,
  "metadata": {
    "colab": {
      "provenance": [],
      "authorship_tag": "ABX9TyNvA34ESbiLRDPUK46XWUH8",
      "include_colab_link": true
    },
    "kernelspec": {
      "name": "python3",
      "display_name": "Python 3"
    },
    "language_info": {
      "name": "python"
    }
  },
  "cells": [
    {
      "cell_type": "markdown",
      "metadata": {
        "id": "view-in-github",
        "colab_type": "text"
      },
      "source": [
        "<a href=\"https://colab.research.google.com/github/yizhouzheng0358/Assignment1/blob/main/The_Point_Defining_Class_Activity.ipynb\" target=\"_parent\"><img src=\"https://colab.research.google.com/assets/colab-badge.svg\" alt=\"Open In Colab\"/></a>"
      ]
    },
    {
      "cell_type": "code",
      "execution_count": null,
      "metadata": {
        "id": "IMLz1iHBFf8U"
      },
      "outputs": [],
      "source": [
        "# 2-Dimensional\n",
        "class Point:\n",
        "  def __init__(self, x, y):\n",
        "    self.x = x\n",
        "    self.y = y\n",
        "\n",
        "  def distance(self,other):\n",
        "    x_diff = (self.x - other.y) **2\n",
        "    y_diff = (self.y - other.y) **2\n",
        "    return (x_diff + y_diff) **0.5\n",
        "\n",
        "p1=Point(3,4)\n",
        "p2=Point(6,8)\n",
        "print(p1.distance(p2))\n",
        "\n",
        "# 3-Dimensional (with inheriting from 2D class)\n",
        "class Piont3D(Point):\n",
        "  def __init__(self, x, y, z):\n",
        "# if we define another constructor here, this will override the information in the parent class\n",
        "    super().__init__(x,y)\n",
        "    self.z = z"
      ]
    }
  ]
}